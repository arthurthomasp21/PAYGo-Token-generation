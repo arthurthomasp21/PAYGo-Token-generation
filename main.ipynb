{
 "cells": [
  {
   "cell_type": "code",
   "execution_count": 1,
   "metadata": {},
   "outputs": [],
   "source": [
    "from simulator import DeviceSimulator, SingleDeviceServerSimulator\n",
    "from codecs import decode\n",
    "import os\n",
    "\n",
    "# exemple de starting_code et key issus d'une BDD exemple\n",
    "starting_code=516959010\n",
    "def generate_random_hex_number(length):\n",
    "    return os.urandom(length).hex()\n",
    "\n",
    "key = generate_random_hex_number(16)\n",
    "decoded_key = decode(key,'hex') \n",
    "\n",
    "device = DeviceSimulator(starting_code=starting_code, key=decoded_key)\n",
    "server = SingleDeviceServerSimulator(starting_code=starting_code, key=decoded_key)"
   ]
  },
  {
   "cell_type": "code",
   "execution_count": 2,
   "metadata": {},
   "outputs": [
    {
     "name": "stdout",
     "output_type": "stream",
     "text": [
      "-------------------------\n",
      "Expiration Date: 2024-07-30 15:34:09.879931\n",
      "Current count: 1\n",
      "PAYG Enabled: True\n",
      "Active: False\n",
      "-------------------------\n"
     ]
    }
   ],
   "source": [
    "device.print_status()"
   ]
  },
  {
   "cell_type": "code",
   "execution_count": 3,
   "metadata": {},
   "outputs": [
    {
     "data": {
      "text/plain": [
       "'190007009'"
      ]
     },
     "execution_count": 3,
     "metadata": {},
     "output_type": "execute_result"
    }
   ],
   "source": [
    "token = server.generate_counter_sync_token()\n",
    "token"
   ]
  },
  {
   "cell_type": "code",
   "execution_count": 4,
   "metadata": {},
   "outputs": [
    {
     "name": "stdout",
     "output_type": "stream",
     "text": [
      "TOKEN_VALID  | Value: 999\n",
      "UNKNOWN_COMMAND\n",
      "-------------------------\n",
      "Expiration Date: 2024-07-30 15:34:09.879931\n",
      "Current count: 3\n",
      "PAYG Enabled: True\n",
      "Active: False\n",
      "-------------------------\n"
     ]
    }
   ],
   "source": [
    "device.enter_token(token)\n",
    "device.print_status()"
   ]
  },
  {
   "cell_type": "code",
   "execution_count": 5,
   "metadata": {},
   "outputs": [
    {
     "name": "stdout",
     "output_type": "stream",
     "text": [
      "TOKEN_VALID  | Value: 87\n",
      "-------------------------\n",
      "Expiration Date: 2024-10-25 15:34:10.044556\n",
      "Current count: 4\n",
      "PAYG Enabled: True\n",
      "Active: True\n",
      "-------------------------\n"
     ]
    }
   ],
   "source": [
    "import datetime\n",
    "date = datetime.datetime(2024,10,26)\n",
    "token = server.generate_token_from_date(date)\n",
    "device.enter_token(token)\n",
    "device.print_status()"
   ]
  }
 ],
 "metadata": {
  "kernelspec": {
   "display_name": "base",
   "language": "python",
   "name": "python3"
  },
  "language_info": {
   "codemirror_mode": {
    "name": "ipython",
    "version": 3
   },
   "file_extension": ".py",
   "mimetype": "text/x-python",
   "name": "python",
   "nbconvert_exporter": "python",
   "pygments_lexer": "ipython3",
   "version": "3.9.12"
  }
 },
 "nbformat": 4,
 "nbformat_minor": 2
}
